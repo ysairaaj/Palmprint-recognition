{
 "cells": [
  {
   "cell_type": "code",
   "execution_count": 59,
   "id": "d1067990",
   "metadata": {},
   "outputs": [],
   "source": [
    "import numpy as np\n",
    "import image"
   ]
  },
  {
   "cell_type": "code",
   "execution_count": 60,
   "id": "58a87fdc",
   "metadata": {},
   "outputs": [],
   "source": [
    "import cv2"
   ]
  },
  {
   "cell_type": "code",
   "execution_count": 61,
   "id": "7c21dd73",
   "metadata": {},
   "outputs": [],
   "source": [
    "img1 = cv2.imread(r'D:\\BTP\\0b2dae8928e178f368b6d152a1367b7f--cats-meowing-kitty-cats.jpg')\n",
    "img2 = cv2.imread(r'D:\\BTP\\cat_shredder0714.jpg')"
   ]
  },
  {
   "cell_type": "code",
   "execution_count": 62,
   "id": "22a51c79",
   "metadata": {
    "scrolled": true
   },
   "outputs": [
    {
     "data": {
      "text/plain": [
       "((400, 400, 3), (400, 400, 3))"
      ]
     },
     "execution_count": 62,
     "metadata": {},
     "output_type": "execute_result"
    }
   ],
   "source": [
    "img1.shape , img2.shape"
   ]
  },
  {
   "cell_type": "code",
   "execution_count": 63,
   "id": "89e8aba2",
   "metadata": {},
   "outputs": [],
   "source": [
    "cv2.imshow('img' ,img1)\n",
    "cv2.waitKey(0)\n",
    "cv2.destroyAllWindows()"
   ]
  },
  {
   "cell_type": "code",
   "execution_count": 64,
   "id": "ed9502e6",
   "metadata": {},
   "outputs": [],
   "source": [
    "cv2.imshow('img' ,img2)\n",
    "cv2.waitKey(0)\n",
    "cv2.destroyAllWindows()"
   ]
  },
  {
   "cell_type": "code",
   "execution_count": 65,
   "id": "60028859",
   "metadata": {},
   "outputs": [],
   "source": [
    "input_img = np.concatenate(([img1],[img2]), axis=0)"
   ]
  },
  {
   "cell_type": "code",
   "execution_count": 66,
   "id": "f8c244db",
   "metadata": {},
   "outputs": [
    {
     "name": "stdout",
     "output_type": "stream",
     "text": [
      "Input Img Shape: (2, 400, 400, 3)\n"
     ]
    }
   ],
   "source": [
    "print(\"Input Img Shape: {}\".format(input_img.shape))"
   ]
  },
  {
   "cell_type": "code",
   "execution_count": 67,
   "id": "3354fc16",
   "metadata": {},
   "outputs": [],
   "source": [
    "num_batch, H, W, C = input_img.shape"
   ]
  },
  {
   "cell_type": "code",
   "execution_count": 68,
   "id": "8a6365aa",
   "metadata": {},
   "outputs": [],
   "source": [
    "M = np.array([[0.707, -0.707, 0.], [0.707, 0.707, 0.]])"
   ]
  },
  {
   "cell_type": "code",
   "execution_count": 69,
   "id": "4972bb35",
   "metadata": {},
   "outputs": [
    {
     "data": {
      "text/plain": [
       "array([[[ 0.707, -0.707,  0.   ],\n",
       "        [ 0.707,  0.707,  0.   ]],\n",
       "\n",
       "       [[ 0.707, -0.707,  0.   ],\n",
       "        [ 0.707,  0.707,  0.   ]]])"
      ]
     },
     "execution_count": 69,
     "metadata": {},
     "output_type": "execute_result"
    }
   ],
   "source": [
    "M = np.resize(M, (num_batch, 2, 3))\n",
    "M"
   ]
  },
  {
   "cell_type": "code",
   "execution_count": 70,
   "id": "9732d46d",
   "metadata": {},
   "outputs": [],
   "source": [
    "x = np.linspace(-1, 1, W)\n",
    "y = np.linspace(-1, 1, H)\n",
    "x_t, y_t = np.meshgrid(x, y)"
   ]
  },
  {
   "cell_type": "code",
   "execution_count": 71,
   "id": "115f9104",
   "metadata": {},
   "outputs": [
    {
     "data": {
      "text/plain": [
       "array([[-1.        , -0.99498747, -0.98997494, ...,  0.98997494,\n",
       "         0.99498747,  1.        ],\n",
       "       [-1.        , -0.99498747, -0.98997494, ...,  0.98997494,\n",
       "         0.99498747,  1.        ],\n",
       "       [-1.        , -0.99498747, -0.98997494, ...,  0.98997494,\n",
       "         0.99498747,  1.        ],\n",
       "       ...,\n",
       "       [-1.        , -0.99498747, -0.98997494, ...,  0.98997494,\n",
       "         0.99498747,  1.        ],\n",
       "       [-1.        , -0.99498747, -0.98997494, ...,  0.98997494,\n",
       "         0.99498747,  1.        ],\n",
       "       [-1.        , -0.99498747, -0.98997494, ...,  0.98997494,\n",
       "         0.99498747,  1.        ]])"
      ]
     },
     "execution_count": 71,
     "metadata": {},
     "output_type": "execute_result"
    }
   ],
   "source": [
    "x_t"
   ]
  },
  {
   "cell_type": "code",
   "execution_count": 72,
   "id": "8804cfbb",
   "metadata": {},
   "outputs": [
    {
     "data": {
      "text/plain": [
       "array([[-1.        , -1.        , -1.        , ..., -1.        ,\n",
       "        -1.        , -1.        ],\n",
       "       [-0.99498747, -0.99498747, -0.99498747, ..., -0.99498747,\n",
       "        -0.99498747, -0.99498747],\n",
       "       [-0.98997494, -0.98997494, -0.98997494, ..., -0.98997494,\n",
       "        -0.98997494, -0.98997494],\n",
       "       ...,\n",
       "       [ 0.98997494,  0.98997494,  0.98997494, ...,  0.98997494,\n",
       "         0.98997494,  0.98997494],\n",
       "       [ 0.99498747,  0.99498747,  0.99498747, ...,  0.99498747,\n",
       "         0.99498747,  0.99498747],\n",
       "       [ 1.        ,  1.        ,  1.        , ...,  1.        ,\n",
       "         1.        ,  1.        ]])"
      ]
     },
     "execution_count": 72,
     "metadata": {},
     "output_type": "execute_result"
    }
   ],
   "source": [
    "y_t"
   ]
  },
  {
   "cell_type": "code",
   "execution_count": 73,
   "id": "bdfbef20",
   "metadata": {},
   "outputs": [],
   "source": [
    "ones = np.ones(np.prod(x_t.shape))"
   ]
  },
  {
   "cell_type": "code",
   "execution_count": 74,
   "id": "510dce5e",
   "metadata": {},
   "outputs": [
    {
     "data": {
      "text/plain": [
       "(160000,)"
      ]
     },
     "execution_count": 74,
     "metadata": {},
     "output_type": "execute_result"
    }
   ],
   "source": [
    "ones.shape"
   ]
  },
  {
   "cell_type": "code",
   "execution_count": 75,
   "id": "177277e7",
   "metadata": {},
   "outputs": [],
   "source": [
    "sampling_grid = np.vstack([x_t.flatten(), y_t.flatten(), ones])"
   ]
  },
  {
   "cell_type": "code",
   "execution_count": 76,
   "id": "303ef6d9",
   "metadata": {},
   "outputs": [
    {
     "data": {
      "text/plain": [
       "(3, 160000)"
      ]
     },
     "execution_count": 76,
     "metadata": {},
     "output_type": "execute_result"
    }
   ],
   "source": [
    "sampling_grid.shape"
   ]
  },
  {
   "cell_type": "code",
   "execution_count": 77,
   "id": "a9afdb1b",
   "metadata": {},
   "outputs": [],
   "source": [
    "sampling_grid = np.resize(sampling_grid, (num_batch, 3, H*W))"
   ]
  },
  {
   "cell_type": "code",
   "execution_count": 78,
   "id": "ec0a1e0f",
   "metadata": {},
   "outputs": [
    {
     "data": {
      "text/plain": [
       "(2, 3, 160000)"
      ]
     },
     "execution_count": 78,
     "metadata": {},
     "output_type": "execute_result"
    }
   ],
   "source": [
    "sampling_grid.shape"
   ]
  },
  {
   "cell_type": "code",
   "execution_count": 79,
   "id": "d783c9ec",
   "metadata": {},
   "outputs": [],
   "source": [
    "\n",
    "batch_grids = np.matmul(M, sampling_grid)"
   ]
  },
  {
   "cell_type": "code",
   "execution_count": 80,
   "id": "088c9a0f",
   "metadata": {},
   "outputs": [
    {
     "data": {
      "text/plain": [
       "(2, 2, 160000)"
      ]
     },
     "execution_count": 80,
     "metadata": {},
     "output_type": "execute_result"
    }
   ],
   "source": [
    "batch_grids.shape"
   ]
  },
  {
   "cell_type": "code",
   "execution_count": 81,
   "id": "16554b74",
   "metadata": {},
   "outputs": [],
   "source": [
    "batch_grids = batch_grids.reshape(num_batch, 2, H, W)"
   ]
  },
  {
   "cell_type": "code",
   "execution_count": 82,
   "id": "1bafee3d",
   "metadata": {},
   "outputs": [
    {
     "data": {
      "text/plain": [
       "(2, 2, 400, 400)"
      ]
     },
     "execution_count": 82,
     "metadata": {},
     "output_type": "execute_result"
    }
   ],
   "source": [
    "batch_grids.shape"
   ]
  },
  {
   "cell_type": "code",
   "execution_count": 83,
   "id": "8aabb7fa",
   "metadata": {},
   "outputs": [],
   "source": [
    "batch_grids = np.moveaxis(batch_grids, 1, -1)"
   ]
  },
  {
   "cell_type": "code",
   "execution_count": 84,
   "id": "f1427b81",
   "metadata": {},
   "outputs": [
    {
     "data": {
      "text/plain": [
       "(2, 400, 400, 2)"
      ]
     },
     "execution_count": 84,
     "metadata": {},
     "output_type": "execute_result"
    }
   ],
   "source": [
    "batch_grids.shape"
   ]
  },
  {
   "cell_type": "code",
   "execution_count": 85,
   "id": "f0dddc6e",
   "metadata": {},
   "outputs": [],
   "source": [
    "x_s = batch_grids[:, :, :, 0:1].squeeze()\n",
    "y_s = batch_grids[:, :, :, 1:2].squeeze()\n"
   ]
  },
  {
   "cell_type": "code",
   "execution_count": 86,
   "id": "7a6bf058",
   "metadata": {},
   "outputs": [
    {
     "data": {
      "text/plain": [
       "array([[[ 0.        ,  0.00354386,  0.00708772, ...,  1.40691228,\n",
       "          1.41045614,  1.414     ],\n",
       "        [-0.00354386,  0.        ,  0.00354386, ...,  1.40336842,\n",
       "          1.40691228,  1.41045614],\n",
       "        [-0.00708772, -0.00354386,  0.        , ...,  1.39982456,\n",
       "          1.40336842,  1.40691228],\n",
       "        ...,\n",
       "        [-1.40691228, -1.40336842, -1.39982456, ...,  0.        ,\n",
       "          0.00354386,  0.00708772],\n",
       "        [-1.41045614, -1.40691228, -1.40336842, ..., -0.00354386,\n",
       "          0.        ,  0.00354386],\n",
       "        [-1.414     , -1.41045614, -1.40691228, ..., -0.00708772,\n",
       "         -0.00354386,  0.        ]],\n",
       "\n",
       "       [[ 0.        ,  0.00354386,  0.00708772, ...,  1.40691228,\n",
       "          1.41045614,  1.414     ],\n",
       "        [-0.00354386,  0.        ,  0.00354386, ...,  1.40336842,\n",
       "          1.40691228,  1.41045614],\n",
       "        [-0.00708772, -0.00354386,  0.        , ...,  1.39982456,\n",
       "          1.40336842,  1.40691228],\n",
       "        ...,\n",
       "        [-1.40691228, -1.40336842, -1.39982456, ...,  0.        ,\n",
       "          0.00354386,  0.00708772],\n",
       "        [-1.41045614, -1.40691228, -1.40336842, ..., -0.00354386,\n",
       "          0.        ,  0.00354386],\n",
       "        [-1.414     , -1.41045614, -1.40691228, ..., -0.00708772,\n",
       "         -0.00354386,  0.        ]]])"
      ]
     },
     "execution_count": 86,
     "metadata": {},
     "output_type": "execute_result"
    }
   ],
   "source": [
    "x_s"
   ]
  },
  {
   "cell_type": "code",
   "execution_count": 87,
   "id": "dfa052f7",
   "metadata": {},
   "outputs": [
    {
     "data": {
      "text/plain": [
       "array([[[-1.41400000e+00, -1.41045614e+00, -1.40691228e+00, ...,\n",
       "         -7.08771930e-03, -3.54385965e-03,  0.00000000e+00],\n",
       "        [-1.41045614e+00, -1.40691228e+00, -1.40336842e+00, ...,\n",
       "         -3.54385965e-03,  0.00000000e+00,  3.54385965e-03],\n",
       "        [-1.40691228e+00, -1.40336842e+00, -1.39982456e+00, ...,\n",
       "         -2.22044605e-16,  3.54385965e-03,  7.08771930e-03],\n",
       "        ...,\n",
       "        [-7.08771930e-03, -3.54385965e-03, -2.22044605e-16, ...,\n",
       "          1.39982456e+00,  1.40336842e+00,  1.40691228e+00],\n",
       "        [-3.54385965e-03,  0.00000000e+00,  3.54385965e-03, ...,\n",
       "          1.40336842e+00,  1.40691228e+00,  1.41045614e+00],\n",
       "        [ 0.00000000e+00,  3.54385965e-03,  7.08771930e-03, ...,\n",
       "          1.40691228e+00,  1.41045614e+00,  1.41400000e+00]],\n",
       "\n",
       "       [[-1.41400000e+00, -1.41045614e+00, -1.40691228e+00, ...,\n",
       "         -7.08771930e-03, -3.54385965e-03,  0.00000000e+00],\n",
       "        [-1.41045614e+00, -1.40691228e+00, -1.40336842e+00, ...,\n",
       "         -3.54385965e-03,  0.00000000e+00,  3.54385965e-03],\n",
       "        [-1.40691228e+00, -1.40336842e+00, -1.39982456e+00, ...,\n",
       "         -2.22044605e-16,  3.54385965e-03,  7.08771930e-03],\n",
       "        ...,\n",
       "        [-7.08771930e-03, -3.54385965e-03, -2.22044605e-16, ...,\n",
       "          1.39982456e+00,  1.40336842e+00,  1.40691228e+00],\n",
       "        [-3.54385965e-03,  0.00000000e+00,  3.54385965e-03, ...,\n",
       "          1.40336842e+00,  1.40691228e+00,  1.41045614e+00],\n",
       "        [ 0.00000000e+00,  3.54385965e-03,  7.08771930e-03, ...,\n",
       "          1.40691228e+00,  1.41045614e+00,  1.41400000e+00]]])"
      ]
     },
     "execution_count": 87,
     "metadata": {},
     "output_type": "execute_result"
    }
   ],
   "source": [
    "y_s"
   ]
  },
  {
   "cell_type": "code",
   "execution_count": 88,
   "id": "b3763ce3",
   "metadata": {},
   "outputs": [],
   "source": [
    "x = ((x_s + 1.) * W) * 0.5\n",
    "y = ((y_s + 1.) * H) * 0.5"
   ]
  },
  {
   "cell_type": "code",
   "execution_count": 89,
   "id": "4a6160de",
   "metadata": {},
   "outputs": [
    {
     "data": {
      "text/plain": [
       "(2, 400, 400)"
      ]
     },
     "execution_count": 89,
     "metadata": {},
     "output_type": "execute_result"
    }
   ],
   "source": [
    "x.shape"
   ]
  },
  {
   "cell_type": "code",
   "execution_count": 90,
   "id": "407144f9",
   "metadata": {},
   "outputs": [
    {
     "data": {
      "text/plain": [
       "array([[[200.        , 200.70877193, 201.41754386, ..., 481.38245614,\n",
       "         482.09122807, 482.8       ],\n",
       "        [199.29122807, 200.        , 200.70877193, ..., 480.67368421,\n",
       "         481.38245614, 482.09122807],\n",
       "        [198.58245614, 199.29122807, 200.        , ..., 479.96491228,\n",
       "         480.67368421, 481.38245614],\n",
       "        ...,\n",
       "        [-81.38245614, -80.67368421, -79.96491228, ..., 200.        ,\n",
       "         200.70877193, 201.41754386],\n",
       "        [-82.09122807, -81.38245614, -80.67368421, ..., 199.29122807,\n",
       "         200.        , 200.70877193],\n",
       "        [-82.8       , -82.09122807, -81.38245614, ..., 198.58245614,\n",
       "         199.29122807, 200.        ]],\n",
       "\n",
       "       [[200.        , 200.70877193, 201.41754386, ..., 481.38245614,\n",
       "         482.09122807, 482.8       ],\n",
       "        [199.29122807, 200.        , 200.70877193, ..., 480.67368421,\n",
       "         481.38245614, 482.09122807],\n",
       "        [198.58245614, 199.29122807, 200.        , ..., 479.96491228,\n",
       "         480.67368421, 481.38245614],\n",
       "        ...,\n",
       "        [-81.38245614, -80.67368421, -79.96491228, ..., 200.        ,\n",
       "         200.70877193, 201.41754386],\n",
       "        [-82.09122807, -81.38245614, -80.67368421, ..., 199.29122807,\n",
       "         200.        , 200.70877193],\n",
       "        [-82.8       , -82.09122807, -81.38245614, ..., 198.58245614,\n",
       "         199.29122807, 200.        ]]])"
      ]
     },
     "execution_count": 90,
     "metadata": {},
     "output_type": "execute_result"
    }
   ],
   "source": [
    "x"
   ]
  },
  {
   "cell_type": "code",
   "execution_count": 91,
   "id": "da56217f",
   "metadata": {},
   "outputs": [
    {
     "data": {
      "text/plain": [
       "array([[[-82.8       , -82.09122807, -81.38245614, ..., 198.58245614,\n",
       "         199.29122807, 200.        ],\n",
       "        [-82.09122807, -81.38245614, -80.67368421, ..., 199.29122807,\n",
       "         200.        , 200.70877193],\n",
       "        [-81.38245614, -80.67368421, -79.96491228, ..., 200.        ,\n",
       "         200.70877193, 201.41754386],\n",
       "        ...,\n",
       "        [198.58245614, 199.29122807, 200.        , ..., 479.96491228,\n",
       "         480.67368421, 481.38245614],\n",
       "        [199.29122807, 200.        , 200.70877193, ..., 480.67368421,\n",
       "         481.38245614, 482.09122807],\n",
       "        [200.        , 200.70877193, 201.41754386, ..., 481.38245614,\n",
       "         482.09122807, 482.8       ]],\n",
       "\n",
       "       [[-82.8       , -82.09122807, -81.38245614, ..., 198.58245614,\n",
       "         199.29122807, 200.        ],\n",
       "        [-82.09122807, -81.38245614, -80.67368421, ..., 199.29122807,\n",
       "         200.        , 200.70877193],\n",
       "        [-81.38245614, -80.67368421, -79.96491228, ..., 200.        ,\n",
       "         200.70877193, 201.41754386],\n",
       "        ...,\n",
       "        [198.58245614, 199.29122807, 200.        , ..., 479.96491228,\n",
       "         480.67368421, 481.38245614],\n",
       "        [199.29122807, 200.        , 200.70877193, ..., 480.67368421,\n",
       "         481.38245614, 482.09122807],\n",
       "        [200.        , 200.70877193, 201.41754386, ..., 481.38245614,\n",
       "         482.09122807, 482.8       ]]])"
      ]
     },
     "execution_count": 91,
     "metadata": {},
     "output_type": "execute_result"
    }
   ],
   "source": [
    "y"
   ]
  },
  {
   "cell_type": "code",
   "execution_count": 92,
   "id": "11d8ea0b",
   "metadata": {},
   "outputs": [],
   "source": [
    "x0 = np.floor(x).astype(np.int64)\n",
    "x1 = x0 + 1\n",
    "y0 = np.floor(y).astype(np.int64)\n",
    "y1 = y0 + 1"
   ]
  },
  {
   "cell_type": "code",
   "execution_count": 93,
   "id": "af9ced6b",
   "metadata": {},
   "outputs": [
    {
     "data": {
      "text/plain": [
       "array([[[200, 200, 201, ..., 481, 482, 482],\n",
       "        [199, 200, 200, ..., 480, 481, 482],\n",
       "        [198, 199, 200, ..., 479, 480, 481],\n",
       "        ...,\n",
       "        [-82, -81, -80, ..., 200, 200, 201],\n",
       "        [-83, -82, -81, ..., 199, 200, 200],\n",
       "        [-83, -83, -82, ..., 198, 199, 200]],\n",
       "\n",
       "       [[200, 200, 201, ..., 481, 482, 482],\n",
       "        [199, 200, 200, ..., 480, 481, 482],\n",
       "        [198, 199, 200, ..., 479, 480, 481],\n",
       "        ...,\n",
       "        [-82, -81, -80, ..., 200, 200, 201],\n",
       "        [-83, -82, -81, ..., 199, 200, 200],\n",
       "        [-83, -83, -82, ..., 198, 199, 200]]], dtype=int64)"
      ]
     },
     "execution_count": 93,
     "metadata": {},
     "output_type": "execute_result"
    }
   ],
   "source": [
    "x0"
   ]
  },
  {
   "cell_type": "code",
   "execution_count": 94,
   "id": "a8391a8a",
   "metadata": {},
   "outputs": [],
   "source": [
    "x0 = np.clip(x0, 0, W-1)\n",
    "x1 = np.clip(x1, 0, W-1)\n",
    "y0 = np.clip(y0, 0, H-1)\n",
    "y1 = np.clip(y1, 0, H-1)"
   ]
  },
  {
   "cell_type": "code",
   "execution_count": 95,
   "id": "63d63f16",
   "metadata": {},
   "outputs": [
    {
     "data": {
      "text/plain": [
       "(2, 400, 400)"
      ]
     },
     "execution_count": 95,
     "metadata": {},
     "output_type": "execute_result"
    }
   ],
   "source": [
    "x0.shape"
   ]
  },
  {
   "cell_type": "code",
   "execution_count": 96,
   "id": "ffcc9f95",
   "metadata": {},
   "outputs": [
    {
     "data": {
      "text/plain": [
       "array([[[200, 200, 201, ..., 399, 399, 399],\n",
       "        [199, 200, 200, ..., 399, 399, 399],\n",
       "        [198, 199, 200, ..., 399, 399, 399],\n",
       "        ...,\n",
       "        [  0,   0,   0, ..., 200, 200, 201],\n",
       "        [  0,   0,   0, ..., 199, 200, 200],\n",
       "        [  0,   0,   0, ..., 198, 199, 200]],\n",
       "\n",
       "       [[200, 200, 201, ..., 399, 399, 399],\n",
       "        [199, 200, 200, ..., 399, 399, 399],\n",
       "        [198, 199, 200, ..., 399, 399, 399],\n",
       "        ...,\n",
       "        [  0,   0,   0, ..., 200, 200, 201],\n",
       "        [  0,   0,   0, ..., 199, 200, 200],\n",
       "        [  0,   0,   0, ..., 198, 199, 200]]], dtype=int64)"
      ]
     },
     "execution_count": 96,
     "metadata": {},
     "output_type": "execute_result"
    }
   ],
   "source": [
    "x0"
   ]
  },
  {
   "cell_type": "code",
   "execution_count": 97,
   "id": "52458144",
   "metadata": {},
   "outputs": [
    {
     "data": {
      "text/plain": [
       "(2, 1, 1)"
      ]
     },
     "execution_count": 97,
     "metadata": {},
     "output_type": "execute_result"
    }
   ],
   "source": [
    "np.arange(num_batch)[:,None,None].shape"
   ]
  },
  {
   "cell_type": "code",
   "execution_count": 98,
   "id": "198184c4",
   "metadata": {},
   "outputs": [],
   "source": [
    "Ia = input_img[np.arange(num_batch)[:,None,None], y0, x0]\n",
    "Ib = input_img[np.arange(num_batch)[:,None,None], y1, x0]\n",
    "Ic = input_img[np.arange(num_batch)[:,None,None], y0, x1]\n",
    "Id = input_img[np.arange(num_batch)[:,None,None], y1, x1]"
   ]
  },
  {
   "cell_type": "code",
   "execution_count": 99,
   "id": "783afdc3",
   "metadata": {},
   "outputs": [
    {
     "data": {
      "text/plain": [
       "(2, 400, 400, 3)"
      ]
     },
     "execution_count": 99,
     "metadata": {},
     "output_type": "execute_result"
    }
   ],
   "source": [
    "input_img[np.arange(num_batch)[:,None,None], y0, x0].shape"
   ]
  },
  {
   "cell_type": "code",
   "execution_count": 100,
   "id": "ffba6195",
   "metadata": {},
   "outputs": [
    {
     "data": {
      "text/plain": [
       "(2, 400, 400, 3)"
      ]
     },
     "execution_count": 100,
     "metadata": {},
     "output_type": "execute_result"
    }
   ],
   "source": [
    "Ia.shape"
   ]
  },
  {
   "cell_type": "code",
   "execution_count": 101,
   "id": "cb461304",
   "metadata": {
    "scrolled": true
   },
   "outputs": [
    {
     "data": {
      "text/plain": [
       "array([[[[183, 185, 179],\n",
       "         [183, 185, 179],\n",
       "         [183, 185, 179],\n",
       "         ...,\n",
       "         [ 83,  77,  72],\n",
       "         [ 79,  73,  68],\n",
       "         [ 79,  73,  68]],\n",
       "\n",
       "        [[182, 184, 178],\n",
       "         [183, 185, 179],\n",
       "         [183, 185, 179],\n",
       "         ...,\n",
       "         [ 79,  73,  68],\n",
       "         [ 79,  73,  68],\n",
       "         [ 79,  73,  68]],\n",
       "\n",
       "        [[182, 184, 178],\n",
       "         [182, 184, 178],\n",
       "         [183, 185, 179],\n",
       "         ...,\n",
       "         [ 79,  73,  68],\n",
       "         [ 79,  73,  68],\n",
       "         [ 73,  67,  62]],\n",
       "\n",
       "        ...,\n",
       "\n",
       "        [[205, 201, 196],\n",
       "         [207, 203, 198],\n",
       "         [207, 203, 198],\n",
       "         ...,\n",
       "         [194, 194, 194],\n",
       "         [194, 194, 194],\n",
       "         [194, 194, 194]],\n",
       "\n",
       "        [[207, 203, 198],\n",
       "         [203, 200, 195],\n",
       "         [203, 200, 195],\n",
       "         ...,\n",
       "         [194, 194, 194],\n",
       "         [194, 194, 194],\n",
       "         [194, 194, 194]],\n",
       "\n",
       "        [[203, 200, 195],\n",
       "         [203, 200, 195],\n",
       "         [196, 196, 190],\n",
       "         ...,\n",
       "         [194, 194, 194],\n",
       "         [194, 194, 194],\n",
       "         [194, 194, 194]]],\n",
       "\n",
       "\n",
       "       [[[ 16,  19,  23],\n",
       "         [ 16,  19,  23],\n",
       "         [ 16,  19,  23],\n",
       "         ...,\n",
       "         [ 19,  14,  23],\n",
       "         [ 13,  13,  25],\n",
       "         [  4,  13,  27]],\n",
       "\n",
       "        [[ 17,  20,  25],\n",
       "         [ 16,  19,  23],\n",
       "         [ 16,  19,  23],\n",
       "         ...,\n",
       "         [ 13,  13,  25],\n",
       "         [  4,  13,  27],\n",
       "         [  4,  13,  27]],\n",
       "\n",
       "        [[ 17,  20,  25],\n",
       "         [ 17,  20,  25],\n",
       "         [ 16,  19,  23],\n",
       "         ...,\n",
       "         [ 13,  13,  25],\n",
       "         [  4,  13,  27],\n",
       "         [  0,  12,  29]],\n",
       "\n",
       "        ...,\n",
       "\n",
       "        [[ 51,  70, 103],\n",
       "         [ 51,  70, 103],\n",
       "         [ 51,  70, 103],\n",
       "         ...,\n",
       "         [ 80, 151, 215],\n",
       "         [ 80, 151, 215],\n",
       "         [ 87, 159, 219]],\n",
       "\n",
       "        [[ 51,  70, 103],\n",
       "         [ 49,  68, 101],\n",
       "         [ 49,  68, 101],\n",
       "         ...,\n",
       "         [ 70, 142, 206],\n",
       "         [ 80, 151, 215],\n",
       "         [ 80, 151, 215]],\n",
       "\n",
       "        [[ 49,  68, 101],\n",
       "         [ 49,  68, 101],\n",
       "         [ 48,  67, 100],\n",
       "         ...,\n",
       "         [ 78, 149, 216],\n",
       "         [ 70, 142, 206],\n",
       "         [ 80, 151, 215]]]], dtype=uint8)"
      ]
     },
     "execution_count": 101,
     "metadata": {},
     "output_type": "execute_result"
    }
   ],
   "source": [
    "Ia"
   ]
  },
  {
   "cell_type": "code",
   "execution_count": 102,
   "id": "49aef046",
   "metadata": {},
   "outputs": [],
   "source": [
    "wa = (x1-x) * (y1-y)\n",
    "wb = (x1-x) * (y-y0)\n",
    "wc = (x-x0) * (y1-y)\n",
    "wd = (x-x0) * (y-y0)"
   ]
  },
  {
   "cell_type": "code",
   "execution_count": 103,
   "id": "6fa342a0",
   "metadata": {},
   "outputs": [
    {
     "data": {
      "text/plain": [
       "(2, 400, 400)"
      ]
     },
     "execution_count": 103,
     "metadata": {},
     "output_type": "execute_result"
    }
   ],
   "source": [
    "wa.shape"
   ]
  },
  {
   "cell_type": "code",
   "execution_count": 104,
   "id": "336f101a",
   "metadata": {
    "scrolled": true
   },
   "outputs": [
    {
     "data": {
      "text/plain": [
       "array([[[[ 8.28000000e+01],\n",
       "         [ 2.39072699e+01],\n",
       "         [ 4.74017113e+01],\n",
       "         ...,\n",
       "         [-3.43982887e+01],\n",
       "         [-5.88927301e+01],\n",
       "         [-8.38000000e+01]],\n",
       "\n",
       "        [[ 5.81839581e+01],\n",
       "         [ 8.13824561e+01],\n",
       "         [ 2.34944414e+01],\n",
       "         ...,\n",
       "         [-5.78880148e+01],\n",
       "         [-8.23824561e+01],\n",
       "         [-2.41984980e+01]],\n",
       "\n",
       "        [[ 3.39807448e+01],\n",
       "         [ 5.71792428e+01],\n",
       "         [ 7.99649123e+01],\n",
       "         ...,\n",
       "         [-4.60232242e-12],\n",
       "         [-2.37856694e+01],\n",
       "         [-4.79841674e+01]],\n",
       "\n",
       "        ...,\n",
       "\n",
       "        [[ 3.39807448e+01],\n",
       "         [ 5.71792428e+01],\n",
       "         [ 4.54547900e-12],\n",
       "         ...,\n",
       "         [-8.09649123e+01],\n",
       "         [-2.37856694e+01],\n",
       "         [-4.79841674e+01]],\n",
       "\n",
       "        [[ 5.81839581e+01],\n",
       "         [ 8.13824561e+01],\n",
       "         [ 2.34944414e+01],\n",
       "         ...,\n",
       "         [-5.78880148e+01],\n",
       "         [-8.23824561e+01],\n",
       "         [-2.41984980e+01]],\n",
       "\n",
       "        [[ 8.28000000e+01],\n",
       "         [ 2.39072699e+01],\n",
       "         [ 4.74017113e+01],\n",
       "         ...,\n",
       "         [-3.43982887e+01],\n",
       "         [-5.88927301e+01],\n",
       "         [-8.38000000e+01]]],\n",
       "\n",
       "\n",
       "       [[[ 8.28000000e+01],\n",
       "         [ 2.39072699e+01],\n",
       "         [ 4.74017113e+01],\n",
       "         ...,\n",
       "         [-3.43982887e+01],\n",
       "         [-5.88927301e+01],\n",
       "         [-8.38000000e+01]],\n",
       "\n",
       "        [[ 5.81839581e+01],\n",
       "         [ 8.13824561e+01],\n",
       "         [ 2.34944414e+01],\n",
       "         ...,\n",
       "         [-5.78880148e+01],\n",
       "         [-8.23824561e+01],\n",
       "         [-2.41984980e+01]],\n",
       "\n",
       "        [[ 3.39807448e+01],\n",
       "         [ 5.71792428e+01],\n",
       "         [ 7.99649123e+01],\n",
       "         ...,\n",
       "         [-4.60232242e-12],\n",
       "         [-2.37856694e+01],\n",
       "         [-4.79841674e+01]],\n",
       "\n",
       "        ...,\n",
       "\n",
       "        [[ 3.39807448e+01],\n",
       "         [ 5.71792428e+01],\n",
       "         [ 4.54547900e-12],\n",
       "         ...,\n",
       "         [-8.09649123e+01],\n",
       "         [-2.37856694e+01],\n",
       "         [-4.79841674e+01]],\n",
       "\n",
       "        [[ 5.81839581e+01],\n",
       "         [ 8.13824561e+01],\n",
       "         [ 2.34944414e+01],\n",
       "         ...,\n",
       "         [-5.78880148e+01],\n",
       "         [-8.23824561e+01],\n",
       "         [-2.41984980e+01]],\n",
       "\n",
       "        [[ 8.28000000e+01],\n",
       "         [ 2.39072699e+01],\n",
       "         [ 4.74017113e+01],\n",
       "         ...,\n",
       "         [-3.43982887e+01],\n",
       "         [-5.88927301e+01],\n",
       "         [-8.38000000e+01]]]])"
      ]
     },
     "execution_count": 104,
     "metadata": {},
     "output_type": "execute_result"
    }
   ],
   "source": [
    "wa[:,:,:,None]"
   ]
  },
  {
   "cell_type": "code",
   "execution_count": 105,
   "id": "93adf4d2",
   "metadata": {},
   "outputs": [],
   "source": [
    "wa = np.expand_dims(wa, axis=3)\n",
    "wb = np.expand_dims(wb, axis=3)\n",
    "wc = np.expand_dims(wc, axis=3)\n",
    "wd = np.expand_dims(wd, axis=3)"
   ]
  },
  {
   "cell_type": "code",
   "execution_count": 106,
   "id": "96c03ba0",
   "metadata": {},
   "outputs": [
    {
     "data": {
      "text/plain": [
       "(2, 400, 400, 1)"
      ]
     },
     "execution_count": 106,
     "metadata": {},
     "output_type": "execute_result"
    }
   ],
   "source": [
    "wa.shape"
   ]
  },
  {
   "cell_type": "code",
   "execution_count": 107,
   "id": "beeff0bf",
   "metadata": {
    "scrolled": true
   },
   "outputs": [
    {
     "data": {
      "text/plain": [
       "array([[[[ 8.28000000e+01],\n",
       "         [ 2.39072699e+01],\n",
       "         [ 4.74017113e+01],\n",
       "         ...,\n",
       "         [-3.43982887e+01],\n",
       "         [-5.88927301e+01],\n",
       "         [-8.38000000e+01]],\n",
       "\n",
       "        [[ 5.81839581e+01],\n",
       "         [ 8.13824561e+01],\n",
       "         [ 2.34944414e+01],\n",
       "         ...,\n",
       "         [-5.78880148e+01],\n",
       "         [-8.23824561e+01],\n",
       "         [-2.41984980e+01]],\n",
       "\n",
       "        [[ 3.39807448e+01],\n",
       "         [ 5.71792428e+01],\n",
       "         [ 7.99649123e+01],\n",
       "         ...,\n",
       "         [-4.60232242e-12],\n",
       "         [-2.37856694e+01],\n",
       "         [-4.79841674e+01]],\n",
       "\n",
       "        ...,\n",
       "\n",
       "        [[ 3.39807448e+01],\n",
       "         [ 5.71792428e+01],\n",
       "         [ 4.54547900e-12],\n",
       "         ...,\n",
       "         [-8.09649123e+01],\n",
       "         [-2.37856694e+01],\n",
       "         [-4.79841674e+01]],\n",
       "\n",
       "        [[ 5.81839581e+01],\n",
       "         [ 8.13824561e+01],\n",
       "         [ 2.34944414e+01],\n",
       "         ...,\n",
       "         [-5.78880148e+01],\n",
       "         [-8.23824561e+01],\n",
       "         [-2.41984980e+01]],\n",
       "\n",
       "        [[ 8.28000000e+01],\n",
       "         [ 2.39072699e+01],\n",
       "         [ 4.74017113e+01],\n",
       "         ...,\n",
       "         [-3.43982887e+01],\n",
       "         [-5.88927301e+01],\n",
       "         [-8.38000000e+01]]],\n",
       "\n",
       "\n",
       "       [[[ 8.28000000e+01],\n",
       "         [ 2.39072699e+01],\n",
       "         [ 4.74017113e+01],\n",
       "         ...,\n",
       "         [-3.43982887e+01],\n",
       "         [-5.88927301e+01],\n",
       "         [-8.38000000e+01]],\n",
       "\n",
       "        [[ 5.81839581e+01],\n",
       "         [ 8.13824561e+01],\n",
       "         [ 2.34944414e+01],\n",
       "         ...,\n",
       "         [-5.78880148e+01],\n",
       "         [-8.23824561e+01],\n",
       "         [-2.41984980e+01]],\n",
       "\n",
       "        [[ 3.39807448e+01],\n",
       "         [ 5.71792428e+01],\n",
       "         [ 7.99649123e+01],\n",
       "         ...,\n",
       "         [-4.60232242e-12],\n",
       "         [-2.37856694e+01],\n",
       "         [-4.79841674e+01]],\n",
       "\n",
       "        ...,\n",
       "\n",
       "        [[ 3.39807448e+01],\n",
       "         [ 5.71792428e+01],\n",
       "         [ 4.54547900e-12],\n",
       "         ...,\n",
       "         [-8.09649123e+01],\n",
       "         [-2.37856694e+01],\n",
       "         [-4.79841674e+01]],\n",
       "\n",
       "        [[ 5.81839581e+01],\n",
       "         [ 8.13824561e+01],\n",
       "         [ 2.34944414e+01],\n",
       "         ...,\n",
       "         [-5.78880148e+01],\n",
       "         [-8.23824561e+01],\n",
       "         [-2.41984980e+01]],\n",
       "\n",
       "        [[ 8.28000000e+01],\n",
       "         [ 2.39072699e+01],\n",
       "         [ 4.74017113e+01],\n",
       "         ...,\n",
       "         [-3.43982887e+01],\n",
       "         [-5.88927301e+01],\n",
       "         [-8.38000000e+01]]]])"
      ]
     },
     "execution_count": 107,
     "metadata": {},
     "output_type": "execute_result"
    }
   ],
   "source": [
    "wa"
   ]
  },
  {
   "cell_type": "code",
   "execution_count": 108,
   "id": "ed6f0117",
   "metadata": {},
   "outputs": [],
   "source": [
    "out = wa*Ia + wb*Ib + wc*Ic + wd*Id"
   ]
  },
  {
   "cell_type": "code",
   "execution_count": 109,
   "id": "80b607f4",
   "metadata": {},
   "outputs": [
    {
     "data": {
      "text/plain": [
       "(2, 400, 400, 3)"
      ]
     },
     "execution_count": 109,
     "metadata": {},
     "output_type": "execute_result"
    }
   ],
   "source": [
    "out.shape"
   ]
  },
  {
   "cell_type": "code",
   "execution_count": 110,
   "id": "42aef5bc",
   "metadata": {},
   "outputs": [
    {
     "data": {
      "text/plain": [
       "array([[196, 196, 184],\n",
       "       [196, 196, 184],\n",
       "       [196, 196, 184],\n",
       "       ...,\n",
       "       [163, 159, 158],\n",
       "       [163, 159, 158],\n",
       "       [163, 159, 158]], dtype=uint8)"
      ]
     },
     "execution_count": 110,
     "metadata": {},
     "output_type": "execute_result"
    }
   ],
   "source": [
    "img1[:,-3,:]"
   ]
  },
  {
   "cell_type": "code",
   "execution_count": 111,
   "id": "72924973",
   "metadata": {
    "scrolled": true
   },
   "outputs": [
    {
     "data": {
      "text/plain": [
       "array([[[187, 185, 174],\n",
       "        [189, 187, 176],\n",
       "        [192, 190, 179],\n",
       "        ...,\n",
       "        [196, 196, 184],\n",
       "        [193, 193, 179],\n",
       "        [185, 185, 171]],\n",
       "\n",
       "       [[187, 185, 174],\n",
       "        [189, 187, 176],\n",
       "        [192, 190, 179],\n",
       "        ...,\n",
       "        [196, 196, 184],\n",
       "        [193, 193, 179],\n",
       "        [185, 185, 171]],\n",
       "\n",
       "       [[187, 185, 174],\n",
       "        [189, 187, 176],\n",
       "        [192, 190, 179],\n",
       "        ...,\n",
       "        [196, 196, 184],\n",
       "        [193, 193, 179],\n",
       "        [185, 185, 171]],\n",
       "\n",
       "       ...,\n",
       "\n",
       "       [[112, 124, 124],\n",
       "        [115, 127, 127],\n",
       "        [118, 130, 130],\n",
       "        ...,\n",
       "        [163, 159, 158],\n",
       "        [163, 159, 158],\n",
       "        [163, 159, 158]],\n",
       "\n",
       "       [[113, 126, 124],\n",
       "        [115, 128, 126],\n",
       "        [118, 131, 129],\n",
       "        ...,\n",
       "        [163, 159, 158],\n",
       "        [163, 159, 158],\n",
       "        [163, 159, 158]],\n",
       "\n",
       "       [[112, 125, 123],\n",
       "        [115, 128, 126],\n",
       "        [117, 130, 128],\n",
       "        ...,\n",
       "        [163, 159, 158],\n",
       "        [163, 159, 158],\n",
       "        [163, 159, 158]]], dtype=uint8)"
      ]
     },
     "execution_count": 111,
     "metadata": {},
     "output_type": "execute_result"
    }
   ],
   "source": [
    "img1"
   ]
  },
  {
   "cell_type": "code",
   "execution_count": 112,
   "id": "5fa3623f",
   "metadata": {},
   "outputs": [
    {
     "data": {
      "text/plain": [
       "array([[[0, 0, 0],\n",
       "        [0, 0, 0],\n",
       "        [0, 0, 0],\n",
       "        ...,\n",
       "        [0, 0, 0],\n",
       "        [0, 0, 0],\n",
       "        [0, 0, 0]],\n",
       "\n",
       "       [[0, 0, 0],\n",
       "        [0, 0, 0],\n",
       "        [0, 0, 0],\n",
       "        ...,\n",
       "        [0, 0, 0],\n",
       "        [0, 0, 0],\n",
       "        [0, 0, 0]],\n",
       "\n",
       "       [[0, 0, 0],\n",
       "        [0, 0, 0],\n",
       "        [0, 0, 0],\n",
       "        ...,\n",
       "        [0, 0, 0],\n",
       "        [0, 0, 0],\n",
       "        [0, 0, 0]],\n",
       "\n",
       "       ...,\n",
       "\n",
       "       [[0, 0, 0],\n",
       "        [0, 0, 0],\n",
       "        [0, 0, 0],\n",
       "        ...,\n",
       "        [0, 0, 0],\n",
       "        [0, 0, 0],\n",
       "        [0, 0, 0]],\n",
       "\n",
       "       [[0, 0, 0],\n",
       "        [0, 0, 0],\n",
       "        [0, 0, 0],\n",
       "        ...,\n",
       "        [0, 0, 0],\n",
       "        [0, 0, 0],\n",
       "        [0, 0, 0]],\n",
       "\n",
       "       [[0, 0, 0],\n",
       "        [0, 0, 0],\n",
       "        [0, 0, 0],\n",
       "        ...,\n",
       "        [0, 0, 0],\n",
       "        [0, 0, 0],\n",
       "        [0, 0, 0]]], dtype=uint8)"
      ]
     },
     "execution_count": 112,
     "metadata": {},
     "output_type": "execute_result"
    }
   ],
   "source": [
    "out[0].astype(np.uint8)"
   ]
  },
  {
   "cell_type": "code",
   "execution_count": 113,
   "id": "c4e64892",
   "metadata": {},
   "outputs": [],
   "source": [
    "a = out[0].astype(np.uint8)\n",
    "cv2.imshow('img_mod',a)\n",
    "cv2.waitKey(0)\n",
    "cv2.destroyAllWindows()"
   ]
  },
  {
   "cell_type": "code",
   "execution_count": 1,
   "id": "6f4708fa",
   "metadata": {},
   "outputs": [],
   "source": [
    "def _repeat(x, n_repeats):\n",
    "    rep = tf.transpose(\n",
    "      tf.expand_dims(tf.ones(shape=tf.stack([n_repeats, ])), 1), [1, 0])\n",
    "    rep = tf.cast(rep, 'int32')\n",
    "    x = tf.matmul(tf.reshape(x, (-1, 1)), rep)\n",
    "    return tf.reshape(x, [-1])"
   ]
  },
  {
   "cell_type": "code",
   "execution_count": 2,
   "id": "2cf282df",
   "metadata": {},
   "outputs": [],
   "source": [
    "import tensorflow as tf"
   ]
  },
  {
   "cell_type": "code",
   "execution_count": 3,
   "id": "71349b2d",
   "metadata": {},
   "outputs": [
    {
     "data": {
      "text/plain": [
       "<tf.Tensor: shape=(1,), dtype=int32, numpy=array([4])>"
      ]
     },
     "execution_count": 3,
     "metadata": {},
     "output_type": "execute_result"
    }
   ],
   "source": [
    "tf.stack([4])"
   ]
  },
  {
   "cell_type": "code",
   "execution_count": 4,
   "id": "98558734",
   "metadata": {},
   "outputs": [
    {
     "data": {
      "text/plain": [
       "<tf.Tensor: shape=(1,), dtype=int32, numpy=array([4])>"
      ]
     },
     "execution_count": 4,
     "metadata": {},
     "output_type": "execute_result"
    }
   ],
   "source": [
    "tf.stack([4, ])"
   ]
  },
  {
   "cell_type": "code",
   "execution_count": 5,
   "id": "22bb863d",
   "metadata": {},
   "outputs": [
    {
     "data": {
      "text/plain": [
       "<tf.Tensor: shape=(1,), dtype=int32, numpy=array([4])>"
      ]
     },
     "execution_count": 5,
     "metadata": {},
     "output_type": "execute_result"
    }
   ],
   "source": [
    "tf.constant([4])"
   ]
  },
  {
   "cell_type": "code",
   "execution_count": 6,
   "id": "423172bb",
   "metadata": {},
   "outputs": [
    {
     "data": {
      "text/plain": [
       "<tf.Tensor: shape=(4,), dtype=float32, numpy=array([1., 1., 1., 1.], dtype=float32)>"
      ]
     },
     "execution_count": 6,
     "metadata": {},
     "output_type": "execute_result"
    }
   ],
   "source": [
    "tf.ones(shape=tf.stack([4, ]))"
   ]
  },
  {
   "cell_type": "code",
   "execution_count": 7,
   "id": "661eac66",
   "metadata": {},
   "outputs": [
    {
     "data": {
      "text/plain": [
       "<tf.Tensor: shape=(4, 1), dtype=float32, numpy=\n",
       "array([[1.],\n",
       "       [1.],\n",
       "       [1.],\n",
       "       [1.]], dtype=float32)>"
      ]
     },
     "execution_count": 7,
     "metadata": {},
     "output_type": "execute_result"
    }
   ],
   "source": [
    "tf.expand_dims(tf.ones(shape=tf.stack([4, ])), 1)"
   ]
  },
  {
   "cell_type": "code",
   "execution_count": 8,
   "id": "f0e10ac4",
   "metadata": {},
   "outputs": [],
   "source": [
    "rep = tf.transpose(\n",
    "      tf.expand_dims(tf.ones(shape=tf.stack([4, ])), 1), [1, 0])"
   ]
  },
  {
   "cell_type": "code",
   "execution_count": 9,
   "id": "18a31464",
   "metadata": {},
   "outputs": [],
   "source": [
    "x = tf.constant([[[ 1,  2,  3],\n",
    "                  [ 4,  5,  6]],\n",
    "                 [[ 7,  8,  9],\n",
    "                  [10, 11, 12]]])"
   ]
  },
  {
   "cell_type": "code",
   "execution_count": 10,
   "id": "0a4300e8",
   "metadata": {},
   "outputs": [
    {
     "data": {
      "text/plain": [
       "<tf.Tensor: shape=(2, 2, 3), dtype=int32, numpy=\n",
       "array([[[ 1,  2,  3],\n",
       "        [ 4,  5,  6]],\n",
       "\n",
       "       [[ 7,  8,  9],\n",
       "        [10, 11, 12]]])>"
      ]
     },
     "execution_count": 10,
     "metadata": {},
     "output_type": "execute_result"
    }
   ],
   "source": [
    "x"
   ]
  },
  {
   "cell_type": "code",
   "execution_count": 11,
   "id": "9c9578f8",
   "metadata": {},
   "outputs": [
    {
     "data": {
      "text/plain": [
       "<tf.Tensor: shape=(3, 2, 2), dtype=int32, numpy=\n",
       "array([[[ 1,  7],\n",
       "        [ 4, 10]],\n",
       "\n",
       "       [[ 2,  8],\n",
       "        [ 5, 11]],\n",
       "\n",
       "       [[ 3,  9],\n",
       "        [ 6, 12]]])>"
      ]
     },
     "execution_count": 11,
     "metadata": {},
     "output_type": "execute_result"
    }
   ],
   "source": [
    "tf.transpose(x)"
   ]
  },
  {
   "cell_type": "code",
   "execution_count": 12,
   "id": "552bf170",
   "metadata": {},
   "outputs": [
    {
     "data": {
      "text/plain": [
       "<tf.Tensor: shape=(2, 3, 2), dtype=int32, numpy=\n",
       "array([[[ 1,  4],\n",
       "        [ 2,  5],\n",
       "        [ 3,  6]],\n",
       "\n",
       "       [[ 7, 10],\n",
       "        [ 8, 11],\n",
       "        [ 9, 12]]])>"
      ]
     },
     "execution_count": 12,
     "metadata": {},
     "output_type": "execute_result"
    }
   ],
   "source": [
    "tf.transpose(x, perm=[0, 2, 1])"
   ]
  },
  {
   "cell_type": "code",
   "execution_count": 13,
   "id": "24c27e73",
   "metadata": {},
   "outputs": [],
   "source": [
    "rep = tf.cast(rep, 'int32')"
   ]
  },
  {
   "cell_type": "code",
   "execution_count": 14,
   "id": "ce9771a3",
   "metadata": {},
   "outputs": [
    {
     "data": {
      "text/plain": [
       "<tf.Tensor: shape=(1, 4), dtype=int32, numpy=array([[1, 1, 1, 1]])>"
      ]
     },
     "execution_count": 14,
     "metadata": {},
     "output_type": "execute_result"
    }
   ],
   "source": [
    "rep\n"
   ]
  },
  {
   "cell_type": "code",
   "execution_count": 20,
   "id": "17fc11f6",
   "metadata": {},
   "outputs": [
    {
     "data": {
      "text/plain": [
       "<tf.Tensor: shape=(12, 1), dtype=int32, numpy=\n",
       "array([[ 1],\n",
       "       [ 2],\n",
       "       [ 3],\n",
       "       [ 4],\n",
       "       [ 5],\n",
       "       [ 6],\n",
       "       [ 7],\n",
       "       [ 8],\n",
       "       [ 9],\n",
       "       [10],\n",
       "       [11],\n",
       "       [12]])>"
      ]
     },
     "execution_count": 20,
     "metadata": {},
     "output_type": "execute_result"
    }
   ],
   "source": [
    "tf.reshape(x, (-1, 1))"
   ]
  },
  {
   "cell_type": "code",
   "execution_count": 23,
   "id": "03cd1a34",
   "metadata": {},
   "outputs": [],
   "source": [
    "x = tf.matmul(tf.reshape(x, (-1, 1)), rep)"
   ]
  },
  {
   "cell_type": "code",
   "execution_count": 24,
   "id": "d475c26c",
   "metadata": {},
   "outputs": [
    {
     "data": {
      "text/plain": [
       "<tf.Tensor: shape=(12, 4), dtype=int32, numpy=\n",
       "array([[ 1,  1,  1,  1],\n",
       "       [ 2,  2,  2,  2],\n",
       "       [ 3,  3,  3,  3],\n",
       "       [ 4,  4,  4,  4],\n",
       "       [ 5,  5,  5,  5],\n",
       "       [ 6,  6,  6,  6],\n",
       "       [ 7,  7,  7,  7],\n",
       "       [ 8,  8,  8,  8],\n",
       "       [ 9,  9,  9,  9],\n",
       "       [10, 10, 10, 10],\n",
       "       [11, 11, 11, 11],\n",
       "       [12, 12, 12, 12]])>"
      ]
     },
     "execution_count": 24,
     "metadata": {},
     "output_type": "execute_result"
    }
   ],
   "source": [
    "x"
   ]
  },
  {
   "cell_type": "code",
   "execution_count": 25,
   "id": "b610a732",
   "metadata": {},
   "outputs": [
    {
     "data": {
      "text/plain": [
       "<tf.Tensor: shape=(48,), dtype=int32, numpy=\n",
       "array([ 1,  1,  1,  1,  2,  2,  2,  2,  3,  3,  3,  3,  4,  4,  4,  4,  5,\n",
       "        5,  5,  5,  6,  6,  6,  6,  7,  7,  7,  7,  8,  8,  8,  8,  9,  9,\n",
       "        9,  9, 10, 10, 10, 10, 11, 11, 11, 11, 12, 12, 12, 12])>"
      ]
     },
     "execution_count": 25,
     "metadata": {},
     "output_type": "execute_result"
    }
   ],
   "source": [
    "tf.reshape(x, [-1])"
   ]
  },
  {
   "cell_type": "code",
   "execution_count": 15,
   "id": "bc6e5ce8",
   "metadata": {},
   "outputs": [],
   "source": [
    "def _interpolate(im, x, y, out_size):\n",
    "    # constants\n",
    "    num_batch = tf.shape(im)[0]\n",
    "    height = tf.shape(im)[1]\n",
    "    width = tf.shape(im)[2]\n",
    "    channels = tf.shape(im)[3]\n",
    "\n",
    "    x = tf.cast(x, 'float32')\n",
    "    y = tf.cast(y, 'float32')\n",
    "    height_f = tf.cast(height, 'float32')\n",
    "    width_f = tf.cast(width, 'float32')\n",
    "    out_height = out_size[0]\n",
    "    out_width = out_size[1]\n",
    "    zero = tf.zeros([], dtype='int32')\n",
    "    max_y = tf.cast(tf.shape(im)[1] - 1, 'int32')\n",
    "    max_x = tf.cast(tf.shape(im)[2] - 1, 'int32')\n",
    "\n",
    "    # scale indices from [-1, 1] to [0, width/height]\n",
    "    x = (x + 1.0)*(width_f) / 2.0\n",
    "    y = (y + 1.0)*(height_f) / 2.0\n",
    "\n",
    "    # do sampling\n",
    "    x0 = tf.cast(tf.floor(x), 'int32')\n",
    "    x1 = x0 + 1\n",
    "    y0 = tf.cast(tf.floor(y), 'int32')\n",
    "    y1 = y0 + 1\n",
    "\n",
    "    x0 = tf.clip_by_value(x0, zero, max_x)\n",
    "    x1 = tf.clip_by_value(x1, zero, max_x)\n",
    "    y0 = tf.clip_by_value(y0, zero, max_y)\n",
    "    y1 = tf.clip_by_value(y1, zero, max_y)\n",
    "    dim2 = width\n",
    "    dim1 = width*height\n",
    "    base = _repeat(tf.range(num_batch)*dim1, out_height*out_width)\n",
    "    base_y0 = base + y0*dim2\n",
    "    base_y1 = base + y1*dim2\n",
    "    idx_a = base_y0 + x0\n",
    "    idx_b = base_y1 + x0\n",
    "    idx_c = base_y0 + x1\n",
    "    idx_d = base_y1 + x1\n",
    "\n",
    "    # use indices to lookup pixels in the flat image and restore\n",
    "    # channels dim\n",
    "    im_flat = tf.reshape(im, tf.stack([-1, channels]))\n",
    "    im_flat = tf.cast(im_flat, 'float32')\n",
    "    Ia = tf.gather(im_flat, idx_a)\n",
    "    Ib = tf.gather(im_flat, idx_b)\n",
    "    Ic = tf.gather(im_flat, idx_c)\n",
    "    Id = tf.gather(im_flat, idx_d)\n",
    "\n",
    "    # and finally calculate interpolated values\n",
    "    x0_f = tf.cast(x0, 'float32')\n",
    "    x1_f = tf.cast(x1, 'float32')\n",
    "    y0_f = tf.cast(y0, 'float32')\n",
    "    y1_f = tf.cast(y1, 'float32')\n",
    "    wa = tf.expand_dims(((x1_f-x) * (y1_f-y)), 1)\n",
    "    wb = tf.expand_dims(((x1_f-x) * (y-y0_f)), 1)\n",
    "    wc = tf.expand_dims(((x-x0_f) * (y1_f-y)), 1)\n",
    "    wd = tf.expand_dims(((x-x0_f) * (y-y0_f)), 1)\n",
    "    output = tf.add_n([wa*Ia, wb*Ib, wc*Ic, wd*Id])\n",
    "    return output"
   ]
  },
  {
   "cell_type": "code",
   "execution_count": null,
   "id": "c5665f30",
   "metadata": {},
   "outputs": [],
   "source": [
    " def _meshgrid(height, width, source):\n",
    "    x_t = tf.tile(\n",
    "      tf.reshape(tf.linspace(-1.0, 1.0, width), [1, width]), [height, 1])\n",
    "    y_t = tf.tile(\n",
    "      tf.reshape(tf.linspace(-1.0, 1.0, height), [height, 1]), [1, width])\n",
    "\n",
    "    x_t_flat = tf.reshape(x_t, (1, 1, -1))\n",
    "    y_t_flat = tf.reshape(y_t, (1, 1, -1))\n",
    "\n",
    "    num_batch = tf.shape(source)[0]\n",
    "    px = tf.expand_dims(source[:,:,0], 2) # [bn, pn, 1]\n",
    "    py = tf.expand_dims(source[:,:,1], 2) # [bn, pn, 1]\n",
    "    d2 = tf.square(x_t_flat - px) + tf.square(y_t_flat - py)\n",
    "    r = d2 * tf.log(d2 + 1e-6) # [bn, pn, h*w]\n",
    "    x_t_flat_g = tf.tile(x_t_flat, tf.stack([num_batch, 1, 1])) # [bn, 1, h*w]\n",
    "    y_t_flat_g = tf.tile(y_t_flat, tf.stack([num_batch, 1, 1])) # [bn, 1, h*w]\n",
    "    ones = tf.ones_like(x_t_flat_g) # [bn, 1, h*w]\n",
    "\n",
    "    grid = tf.concat([ones, x_t_flat_g, y_t_flat_g, r], 1) # [bn, 3+pn, h*w]\n",
    "    return grid"
   ]
  }
 ],
 "metadata": {
  "kernelspec": {
   "display_name": "Python 3 (ipykernel)",
   "language": "python",
   "name": "python3"
  },
  "language_info": {
   "codemirror_mode": {
    "name": "ipython",
    "version": 3
   },
   "file_extension": ".py",
   "mimetype": "text/x-python",
   "name": "python",
   "nbconvert_exporter": "python",
   "pygments_lexer": "ipython3",
   "version": "3.9.7"
  }
 },
 "nbformat": 4,
 "nbformat_minor": 5
}
