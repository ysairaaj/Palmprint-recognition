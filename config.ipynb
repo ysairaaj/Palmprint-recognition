{
 "cells": [
  {
   "cell_type": "code",
   "execution_count": 1,
   "id": "e10c26a8",
   "metadata": {},
   "outputs": [],
   "source": [
    "import os"
   ]
  },
  {
   "cell_type": "code",
   "execution_count": 4,
   "id": "8ed3b3c4",
   "metadata": {},
   "outputs": [],
   "source": [
    "UNSEGMENTED_IMAGES_LEFT = 'D:\\BTP\\4\\IITD_Palmprint_V1\\Left Hand'\n",
    "SEGMENTED_IMAGES_LEFT = 'D:\\BTP\\4\\IITD_Palmprint_V1\\Segmented\\Left'"
   ]
  },
  {
   "cell_type": "code",
   "execution_count": 3,
   "id": "cd24f359",
   "metadata": {},
   "outputs": [],
   "source": [
    "BASE_OUTPUT = \"D:\\BTP\\4\\output\"\n",
    "MODEL_PATH = os.path.sep.join([BASE_OUTPUT, \"detector.h5\"])\n",
    "PLOT_PATH = os.path.sep.join([BASE_OUTPUT, \"plot.png\"])\n",
    "TEST_FILENAMES = os.path.sep.join([BASE_OUTPUT, \"test_images.txt\"])"
   ]
  },
  {
   "cell_type": "code",
   "execution_count": 2,
   "id": "87c4f1c7",
   "metadata": {},
   "outputs": [],
   "source": [
    "INIT_LR = 1e-4\n",
    "NUM_EPOCHS = 25\n",
    "BATCH_SIZE = 32"
   ]
  },
  {
   "cell_type": "code",
   "execution_count": null,
   "id": "1e054097",
   "metadata": {},
   "outputs": [],
   "source": []
  }
 ],
 "metadata": {
  "kernelspec": {
   "display_name": "Python 3 (ipykernel)",
   "language": "python",
   "name": "python3"
  },
  "language_info": {
   "codemirror_mode": {
    "name": "ipython",
    "version": 3
   },
   "file_extension": ".py",
   "mimetype": "text/x-python",
   "name": "python",
   "nbconvert_exporter": "python",
   "pygments_lexer": "ipython3",
   "version": "3.9.7"
  }
 },
 "nbformat": 4,
 "nbformat_minor": 5
}
